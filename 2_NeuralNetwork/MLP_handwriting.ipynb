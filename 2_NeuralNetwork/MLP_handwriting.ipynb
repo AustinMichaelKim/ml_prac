{
 "cells": [
  {
   "cell_type": "markdown",
   "metadata": {},
   "source": [
    "### MLP 로 손글씨 분류하기"
   ]
  },
  {
   "cell_type": "code",
   "execution_count": 18,
   "metadata": {},
   "outputs": [],
   "source": [
    "%matplotlib inline\n",
    "import matplotlib.pyplot as plt\n",
    "from sklearn.datasets import load_digits\n",
    "\n",
    "# 손글씨 숫자 데이터셋인데, 8x8 이미지에서 행렬로 표현된 데이터셋\n",
    "digits = load_digits() # 8x8 pixel images of handwritten digits"
   ]
  },
  {
   "cell_type": "markdown",
   "metadata": {},
   "source": [
    "### 기본적인 손글씨 데이터 구조의 이해"
   ]
  },
  {
   "cell_type": "code",
   "execution_count": 7,
   "metadata": {},
   "outputs": [
    {
     "name": "stdout",
     "output_type": "stream",
     "text": [
      "[[ 0.  0.  5. 13.  9.  1.  0.  0.]\n",
      " [ 0.  0. 13. 15. 10. 15.  5.  0.]\n",
      " [ 0.  3. 15.  2.  0. 11.  8.  0.]\n",
      " [ 0.  4. 12.  0.  0.  8.  8.  0.]\n",
      " [ 0.  5.  8.  0.  0.  9.  8.  0.]\n",
      " [ 0.  4. 11.  0.  1. 12.  7.  0.]\n",
      " [ 0.  2. 14.  5. 10. 12.  0.  0.]\n",
      " [ 0.  0.  6. 13. 10.  0.  0.  0.]]\n",
      "0\n",
      "The number of data: 1797\n"
     ]
    },
    {
     "data": {
      "image/png": "[encoded data removed]",
      "text/plain": [
       "<Figure size 640x480 with 5 Axes>"
      ]
     },
     "metadata": {},
     "output_type": "display_data"
    }
   ],
   "source": [
    "print(digits.images[0])\n",
    "print(digits.target[0])\n",
    "print(f'The number of data: {len(digits.images)}')\n",
    "\n",
    "# zip은 여러개의 iterable을 받아서, element-wise로 묶어 tuple로 이루어진 새로운 iterable을 만든다.\n",
    "# 이를 list로 변환하면, 각 이미지와 레이블이 tuple로 묶인 리스트가 된다.\n",
    "# 즉, 첫번째 원소는 (8x8 이미지, 이미지 해당하는 숫자)의 tuple이 된다.\n",
    "images_and_labels = list(zip(digits.images, digits.target))\n",
    "\n",
    "# enumerate는 iterable을 받아서, index=0,1,2,3...와 element= (image, label) 로 이루어진 새로운 iterable을 만든다.\n",
    "# 즉, ( index, element ) 이렇게 묶인 iterable이 된다.\n",
    "# 이를 이용해서, 처음 5개의 이미지와 레이블을 출력한다.\n",
    "for index , (image, label) in enumerate(images_and_labels[:5]):\n",
    "\n",
    "    # 2rows 5columns의 subplot을 만들고, 각 subplot에 번호를 부여한다. 1~5까지\n",
    "    plt.subplot(2, 5, index + 1)\n",
    "    plt.axis('off')\n",
    "\n",
    "    # 이미지 시각화 메소드. \n",
    "    # cmap은 colormap으로, 여러가지 색상을 지정할 수 있다.\n",
    "    # interpolation은 이미지를 나타내는 방식이다. nearest는 smoothing하지 않고, 가장 가까운 픽셀의 색상을 사용한다.\n",
    "    # image는 여러가지 포맷의 이미지를 받을 수 있다. 대표적으로, grayscale, RGB, RGBA 등이 있다.\n",
    "    plt.imshow(image, cmap=plt.cm.gray_r, interpolation='nearest')\n",
    "    plt.title(f'Training: {label}')"
   ]
  },
  {
   "cell_type": "markdown",
   "metadata": {},
   "source": [
    "### MLP 이용해서, 분류기 구성하기"
   ]
  },
  {
   "cell_type": "code",
   "execution_count": 9,
   "metadata": {},
   "outputs": [],
   "source": [
    "# 훈련데이터 설정\n",
    "\n",
    "# digits.data는 8x8 이미지를 64개의 픽셀로 펼친 데이터셋이다.\n",
    "# 이렇게 하면, 8x8행렬 데이터 타입보다 좀 더 수월하게 학습이 가능하다.\n",
    "X = digits.data\n",
    "Y = digits.target\n",
    "\n",
    "# torch.tensor를 이용해서, numpy array를 torch tensor로 변환한다.\n",
    "X = torch.tensor(X, dtype=torch.float32) # (64,) 1차원 텐서 : 이미지 텐서\n",
    "Y = torch.tensor(Y, dtype=torch.int64)   # (1,) 1차원 텐서  : 정답레이블\n",
    "\n",
    "import torch\n",
    "import torch.nn as nn\n",
    "import torch.nn.functional as F\n",
    "import torch.optim as optim\n",
    "\n",
    "# nn.Sequential을 이용하여, 다층 레이어 구성하기\n",
    "# nn.Module을 상속받아서, 나만의 NN을 구성한다.\n",
    "class HandwrittenDigitClassifier(nn.Module):\n",
    "    def __init__(self):\n",
    "\n",
    "        # super()를 이용해서, 부모 클래스의 생성자를 호출한다.\n",
    "        super(HandwrittenDigitClassifier, self).__init__()\n",
    "\n",
    "\n",
    "        # nn.Sequential을 이용해서, 각 레이어를 순차적으로 쌓는다.\n",
    "        self.layer1 = nn.Sequential(\n",
    "            nn.Linear(64, 32),  #선형 레이어 : 입력값 64개(8x8 이미지), 출력값 32개\n",
    "            nn.ReLU()           #활성화 함수 : ReLU함수를 통해서 비선형성을 부여한다.\n",
    "        )\n",
    "\n",
    "        self.layer2 = nn.Sequential(\n",
    "            nn.Linear(32, 16),\n",
    "            nn.ReLU()\n",
    "        )\n",
    "\n",
    "        self.layer3 = nn.Sequential(\n",
    "            nn.Linear(16, 10),  #최종 출력값은 10개의 클래스로 구성된다. 0~9까지의 숫자\n",
    "        )\n",
    "    \n",
    "        # 결과적으로 출력되는 10개의 값들은 예측값이다.\n",
    "        # 이후 cross entropy loss에 이 값들과, 실제 정답 레이블을 넣어서 cost를 구성한다.\n",
    "        # 학습과정에서 이 cost를 최소화하는 방향으로 학습을 진행할 것이다. ( nn.Linear 에 내장된 가중치와 편향을 조절한다. )\n",
    "        \n",
    "    # 순전파 메소드를 통해서, 입력값 x를 받아서, 각 레이어를 통과시킨다.\n",
    "    # 인스턴스를 정의해서 model = HandwrittenDigitClassifier()로 만들고, model(x)로 호출하면, 이 메소드가 실행된다.\n",
    "    def forward(self, x):\n",
    "        x = self.layer1(x)\n",
    "        x = self.layer2(x)\n",
    "        x = self.layer3(x)\n",
    "        return x"
   ]
  },
  {
   "cell_type": "markdown",
   "metadata": {},
   "source": [
    "![NN image 64->32->16->10](../images/nn.svg)"
   ]
  },
  {
   "cell_type": "markdown",
   "metadata": {},
   "source": []
  },
  {
   "cell_type": "code",
   "execution_count": 10,
   "metadata": {},
   "outputs": [
    {
     "name": "stdout",
     "output_type": "stream",
     "text": [
      "epoch: 0/100  Cost: 2.4689035415649414\n",
      "epoch: 10/100  Cost: 2.0035781860351562\n",
      "epoch: 20/100  Cost: 1.7136226892471313\n",
      "epoch: 30/100  Cost: 1.361694574356079\n",
      "epoch: 40/100  Cost: 0.9717889428138733\n",
      "epoch: 50/100  Cost: 0.673910915851593\n",
      "epoch: 60/100  Cost: 0.48292699456214905\n",
      "epoch: 70/100  Cost: 0.3599174916744232\n",
      "epoch: 80/100  Cost: 0.2776836156845093\n",
      "epoch: 90/100  Cost: 0.2224757820367813\n"
     ]
    }
   ],
   "source": [
    "# 모델 인스턴스 생성\n",
    "model = HandwrittenDigitClassifier()\n",
    "\n",
    "# 다중 분류문제이므로 cross entropy loss를 사용한다.\n",
    "# CrossEntropyLoss는 softmax함수와 negative log likelihood loss를 합친 것이다.\n",
    "cost = nn.CrossEntropyLoss()\n",
    "\n",
    "# 최적화 알고리즘은 Adam을 사용한다. ( Adaptive Moment Estimation : RMSprop + Momentum )\n",
    "# Adam은 경사하강법의 일종인데, 이전 에포크의 기울기를 누적해서 관성을 부여하고, 각 파라미터에 대해 학습률을 조절한다.\n",
    "optimizer = optim.Adam(model.parameters()) # default lr=0.001\n",
    "\n",
    "losses = [] # cost값을 저장해서, 그래프로 출력할 것이다.\n",
    "\n",
    "# 학습을 진행한다.\n",
    "\n",
    "for epoch in range(100):\n",
    "    \n",
    "    # 이전 에포크 기울기를 초기화해서, 이번 에포크의 기울기를 구한다.\n",
    "    optimizer.zero_grad()\n",
    "\n",
    "    # 모델에 입력값을 넣어서, 예측값을 구함. ; 10개의 클래스값 반환\n",
    "    Y_prediction = model(X)\n",
    "\n",
    "    # cost를 구한다음에, 최적화를 진행한다.\n",
    "    loss = cost(Y_prediction, Y)\n",
    "    loss.backward() # 역전파를 통해서, 각 파라미터에 대한 기울기를 구한다.\n",
    "    optimizer.step() # 최적화 알고리즘(Adam)을 통해서, 파라미터를 업데이트한다.\n",
    "\n",
    "    # 10에포크마다, cost를 출력한다.\n",
    "    if epoch % 10 == 0:\n",
    "        print(f'epoch: {epoch}/100  Cost: {loss.item()}')\n",
    "\n",
    "    # cost를 저장한다.\n",
    "    losses.append(loss.item())\n",
    "    \n"
   ]
  },
  {
   "cell_type": "code",
   "execution_count": 11,
   "metadata": {},
   "outputs": [
    {
     "data": {
      "text/plain": [
       "[<matplotlib.lines.Line2D at 0x73c37914e840>]"
      ]
     },
     "execution_count": 11,
     "metadata": {},
     "output_type": "execute_result"
    },
    {
     "data": {
      "image/png": "[encoded data removed]",
      "text/plain": [
       "<Figure size 640x480 with 1 Axes>"
      ]
     },
     "metadata": {},
     "output_type": "display_data"
    }
   ],
   "source": [
    "# cost 그래프 출력\n",
    "plt.plot(losses)"
   ]
  },
  {
   "cell_type": "markdown",
   "metadata": {},
   "source": [
    "### 손글씨 분류 학습이후, 테스트 및 정확도 계산"
   ]
  },
  {
   "cell_type": "code",
   "execution_count": 17,
   "metadata": {},
   "outputs": [
    {
     "name": "stdout",
     "output_type": "stream",
     "text": [
      "Accuracy: 0.9554813578185866\n"
     ]
    }
   ],
   "source": [
    "# 모델을 평가한다.\n",
    "with torch.no_grad(): # 테스트시 기울기 반영하지 않음\n",
    "    # 훈련데이터 X를 모델에 넣어서, 10개의 클래스값을 예측한다.\n",
    "    # 이 텐서는, 1797개의 이미지 각각에 대해서, 10개의 클래스값을 리스트로 가지고 있다.\n",
    "    # torch.tensor([[],[],[],...,[10개의 클래스값]]), shape=(1797, 10)\n",
    "    Y_prediction = model(X)\n",
    "\n",
    "    # 예측값은 10개의 클래스값이 나오는데, 이 중에서 가장 큰 값의 인덱스를 선택한다.\n",
    "    # 왜냐면, one-hot encoding으로 만들기 위해서, 가장 큰 하나의 값만 1로 만들고 나머지는 0으로 만들기 위해서이다. \n",
    "    # Y_prediction은 shape=(1797, 10)이므로, dim=1 : 열을 따라서 가장 큰 값의 인덱스를 반환한다.\n",
    "    # 열을 따르다 = 열 방향으로 각 행을 따라서 가장 큰 값의 인덱스를 반환한다.\n",
    "\n",
    "    # torch.argmax의 반환값은 가장 큰 값의 인덱스 = 예측하는 숫자 를 포함한 1차원 텐서이다.\n",
    "    # 이를 Y 정답 레이블 1차원 텐서와 element-wise로 비교해서, 같으면 True, 다르면 False를 반환한다.\n",
    "\n",
    "    correct_prediction = (torch.argmax(Y_prediction, 1) == Y).float()\n",
    "\n",
    "    # 정확도를 계산한다.\n",
    "    # sum()을 통해서, True의 개수 합을 구한뒤, item을 통해 스칼라값으로 변환한다.\n",
    "    # 이를 전체 데이터의 개수로 나눠서, 정확도를 구한다.\n",
    "    accuracy = correct_prediction.sum().item() / len(correct_prediction)\n",
    "    \n",
    "    print(f'Accuracy: {accuracy}')\n",
    "    "
   ]
  },
  {
   "cell_type": "code",
   "execution_count": null,
   "metadata": {},
   "outputs": [],
   "source": []
  }
 ],
 "metadata": {
  "kernelspec": {
   "display_name": "Python (ml18)",
   "language": "python",
   "name": "ml18"
  },
  "language_info": {
   "codemirror_mode": {
    "name": "ipython",
    "version": 3
   },
   "file_extension": ".py",
   "mimetype": "text/x-python",
   "name": "python",
   "nbconvert_exporter": "python",
   "pygments_lexer": "ipython3",
   "version": "3.12.8"
  }
 },
 "nbformat": 4,
 "nbformat_minor": 2
}
