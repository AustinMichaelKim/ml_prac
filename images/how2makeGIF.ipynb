{
 "cells": [
  {
   "cell_type": "code",
   "execution_count": 1,
   "metadata": {},
   "outputs": [],
   "source": [
    "from PIL import Image\n",
    "from IPython.display import display\n",
    "import os\n",
    "\n",
    "directory = \"./imgs_6_CNN/conv_imgs/\"\n",
    "\n",
    "files = os.listdir(directory)\n",
    "\n",
    "image_files = [f for f in files if f.endswith('.png')]\n",
    "\n",
    "\n",
    "image_files.sort()\n",
    "\n",
    "\n",
    "image_path = [os.path.join(directory, img) for img in image_files]\n",
    "\n",
    "for i, path in enumerate(image_path):\n",
    "\n",
    "    # if i == 1:\n",
    "    #     break\n",
    "\n",
    "    img = Image.open(path)\n",
    "\n",
    "    w, h = img.size\n",
    "\n",
    "    scale = 2.4\n",
    "\n",
    "    resized_image = img.resize((int(w/scale), int(h/scale)))\n",
    "\n",
    "    resized_img_path = './imgs_6_CNN/conv_imgs_resized/' + image_files[i]\n",
    "    resized_image.save(resized_img_path)"
   ]
  },
  {
   "cell_type": "code",
   "execution_count": 3,
   "metadata": {},
   "outputs": [],
   "source": [
    "directory2 = \"./imgs_6_CNN/conv_imgs_resized/\"\n",
    "\n",
    "files2 = os.listdir(directory2)\n",
    "\n",
    "image_files2 = [f for f in files2 if f.endswith('.png')]\n",
    "image_files2.sort()\n",
    "image_path2 = [os.path.join(directory2, img) for img in image_files2]\n",
    "\n",
    "\n",
    "images = [Image.open(path) for path in image_path2]\n",
    "\n",
    "images[0].save('./imgs_6_CNN/conv_resized.gif', save_all=True, append_images=images[1:], duration=1000, loop=0)"
   ]
  }
 ],
 "metadata": {
  "kernelspec": {
   "display_name": "condatest",
   "language": "python",
   "name": "condatest"
  },
  "language_info": {
   "codemirror_mode": {
    "name": "ipython",
    "version": 3
   },
   "file_extension": ".py",
   "mimetype": "text/x-python",
   "name": "python",
   "nbconvert_exporter": "python",
   "pygments_lexer": "ipython3",
   "version": "3.12.8"
  }
 },
 "nbformat": 4,
 "nbformat_minor": 2
}
