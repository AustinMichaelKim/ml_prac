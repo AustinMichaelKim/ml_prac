{
 "cells": [
  {
   "cell_type": "code",
   "execution_count": null,
   "metadata": {
    "vscode": {
     "languageId": "plaintext"
    }
   },
   "outputs": [],
   "source": [
    "from PIL import Image\n",
    "from IPython.display import display\n",
    "\n",
    "image_path = '../images/15_09.png'\n",
    "image = Image.open(image_path)\n",
    "\n",
    "w, h = image.size\n",
    "print(f'Original image size: {w}x{h}')\n",
    "\n",
    "resized_image = image.resize((w//2, h//2))\n",
    "resized_img_path = '../images/15_09_resized.png'\n",
    "resized_image.save(resized_img_path)\n"
   ]
  }
 ],
 "metadata": {
  "language_info": {
   "name": "python"
  }
 },
 "nbformat": 4,
 "nbformat_minor": 2
}
