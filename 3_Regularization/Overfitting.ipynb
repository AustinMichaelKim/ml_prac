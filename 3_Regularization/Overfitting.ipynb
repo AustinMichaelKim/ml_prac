{
 "cells": [
  {
   "cell_type": "markdown",
   "metadata": {},
   "source": [
    "### 과적합, 과소적합 등, MLP의 문제점 해결하기 / 정규화(Regularization)"
   ]
  },
  {
   "cell_type": "markdown",
   "metadata": {},
   "source": [
    "# Drop out\n",
    "\n",
    "모든 입력을 그 다음 노드로 fully connect 하면, 문제가 발생한다.\n",
    "\n"
   ]
  }
 ],
 "metadata": {
  "language_info": {
   "name": "python"
  }
 },
 "nbformat": 4,
 "nbformat_minor": 2
}
